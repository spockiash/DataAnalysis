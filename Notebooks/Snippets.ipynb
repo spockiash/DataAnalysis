{
 "cells": [
  {
   "cell_type": "code",
   "execution_count": 39,
   "id": "6ff8e35e-9e05-4393-a5db-17608ccdf7b0",
   "metadata": {},
   "outputs": [],
   "source": [
    "import pandas as pd"
   ]
  },
  {
   "cell_type": "code",
   "execution_count": 2,
   "id": "500b3bfb-4c97-477d-a468-3a6152c7ec35",
   "metadata": {},
   "outputs": [],
   "source": [
    "s = \"python\""
   ]
  },
  {
   "cell_type": "code",
   "execution_count": 3,
   "id": "da20d08e-482f-460c-b0ce-99b201ba4f72",
   "metadata": {},
   "outputs": [
    {
     "data": {
      "text/plain": [
       "['p', 'y', 't', 'h', 'o', 'n']"
      ]
     },
     "execution_count": 3,
     "metadata": {},
     "output_type": "execute_result"
    }
   ],
   "source": [
    "list(s)"
   ]
  },
  {
   "cell_type": "code",
   "execution_count": 4,
   "id": "35910c70-3c10-461c-9df3-52077a56747e",
   "metadata": {},
   "outputs": [
    {
     "data": {
      "text/plain": [
       "'pyt'"
      ]
     },
     "execution_count": 4,
     "metadata": {},
     "output_type": "execute_result"
    }
   ],
   "source": [
    "s[:3]"
   ]
  },
  {
   "cell_type": "markdown",
   "id": "ef40ffac-0b72-446f-bcf9-58e0191502dd",
   "metadata": {},
   "source": [
    "## String formatting\n",
    "Python has system for string formatting using templates. String object support format method that act on the template:"
   ]
  },
  {
   "cell_type": "code",
   "execution_count": 8,
   "id": "6b23d4ed-bb6e-4785-b2bd-c76e47b468aa",
   "metadata": {},
   "outputs": [
    {
     "data": {
      "text/plain": [
       "'124.12 BTC are worth ETH1'"
      ]
     },
     "execution_count": 8,
     "metadata": {},
     "output_type": "execute_result"
    }
   ],
   "source": [
    "template = \"{0:.2f} {1:s} are worth ETH{2:d}\"\n",
    "template.format(124.12, \"BTC\", 1)"
   ]
  },
  {
   "cell_type": "code",
   "execution_count": 11,
   "id": "deb40d17-2171-4582-b69d-f9fd6ae46ea7",
   "metadata": {},
   "outputs": [
    {
     "name": "stdout",
     "output_type": "stream",
     "text": [
      "15 is equal to 14.65 units of meassure\n"
     ]
    }
   ],
   "source": [
    "a = 15\n",
    "b = 14.65\n",
    "c = \"meassure\"\n",
    "result = f\"{a} is equal to {b} units of {c}\"\n",
    "print(result)"
   ]
  },
  {
   "cell_type": "code",
   "execution_count": 1,
   "id": "992220c6-1f59-4732-9849-091f238431b1",
   "metadata": {},
   "outputs": [],
   "source": [
    "import numpy as np"
   ]
  },
  {
   "cell_type": "code",
   "execution_count": 18,
   "id": "f9fe9608-ee10-43d4-9652-f9603f7a01f9",
   "metadata": {},
   "outputs": [
    {
     "data": {
      "text/plain": [
       "array([[  0.66666667, -10.        ,   0.33333333],\n",
       "       [  0.25      ,  -0.33333333,   0.15384615]])"
      ]
     },
     "execution_count": 18,
     "metadata": {},
     "output_type": "execute_result"
    }
   ],
   "source": [
    "data = np.array([[1.5,-0.1, 3], [4, -3, 6.5]])\n",
    "1/data"
   ]
  },
  {
   "cell_type": "code",
   "execution_count": 33,
   "id": "2b58b9f7-a33f-4777-aa55-9f9888c160e2",
   "metadata": {},
   "outputs": [
    {
     "data": {
      "text/plain": [
       "array([12, 12, 12])"
      ]
     },
     "execution_count": 33,
     "metadata": {},
     "output_type": "execute_result"
    }
   ],
   "source": [
    "arr = np.arange(10)\n",
    "arr[5:8] = 12\n",
    "arr_slice = arr[5:8]\n",
    "arr_slice"
   ]
  },
  {
   "cell_type": "code",
   "execution_count": 34,
   "id": "45c9c4f1-7215-4ab5-bbb8-4dab9ba8f5e5",
   "metadata": {},
   "outputs": [
    {
     "data": {
      "text/plain": [
       "array([ 0,  1,  2,  3,  4, 12, 12, 12,  8,  9])"
      ]
     },
     "execution_count": 34,
     "metadata": {},
     "output_type": "execute_result"
    }
   ],
   "source": [
    "arr"
   ]
  },
  {
   "cell_type": "code",
   "execution_count": 35,
   "id": "d8beb9b2-7d4f-4689-a9f4-601b27b930db",
   "metadata": {},
   "outputs": [
    {
     "data": {
      "text/plain": [
       "array([7, 8, 9])"
      ]
     },
     "execution_count": 35,
     "metadata": {},
     "output_type": "execute_result"
    }
   ],
   "source": [
    "arr2d = np.array([[1, 2, 3], [4, 5, 6], [7, 8, 9]])\n",
    "arr2d[2]"
   ]
  },
  {
   "cell_type": "code",
   "execution_count": 36,
   "id": "0ee2e332-e176-49e6-abad-13d5b8ef04d2",
   "metadata": {},
   "outputs": [
    {
     "data": {
      "text/plain": [
       "array([[1, 2, 3],\n",
       "       [4, 5, 6],\n",
       "       [7, 8, 9]])"
      ]
     },
     "execution_count": 36,
     "metadata": {},
     "output_type": "execute_result"
    }
   ],
   "source": [
    "arr2d"
   ]
  },
  {
   "cell_type": "code",
   "execution_count": 37,
   "id": "fc2fc8bd-a8b5-46c4-a029-b74cfc66200b",
   "metadata": {},
   "outputs": [
    {
     "data": {
      "text/plain": [
       "array([[1, 2, 3],\n",
       "       [4, 5, 6]])"
      ]
     },
     "execution_count": 37,
     "metadata": {},
     "output_type": "execute_result"
    }
   ],
   "source": [
    "arr2d[:2]"
   ]
  },
  {
   "cell_type": "code",
   "execution_count": 40,
   "id": "ed3386ba-b071-42f0-8ffc-d4147d5803e1",
   "metadata": {},
   "outputs": [],
   "source": [
    "obj = pd.Series([4, 7, -5, 3])"
   ]
  },
  {
   "cell_type": "code",
   "execution_count": 41,
   "id": "e29f56a1-2e21-4eac-9911-0379d91c88c9",
   "metadata": {},
   "outputs": [
    {
     "data": {
      "text/plain": [
       "0    4\n",
       "1    7\n",
       "2   -5\n",
       "3    3\n",
       "dtype: int64"
      ]
     },
     "execution_count": 41,
     "metadata": {},
     "output_type": "execute_result"
    }
   ],
   "source": [
    "obj"
   ]
  },
  {
   "cell_type": "code",
   "execution_count": null,
   "id": "8616227a-7719-4731-8243-4a7164c76a33",
   "metadata": {},
   "outputs": [],
   "source": []
  }
 ],
 "metadata": {
  "kernelspec": {
   "display_name": "Python 3 (ipykernel)",
   "language": "python",
   "name": "python3"
  },
  "language_info": {
   "codemirror_mode": {
    "name": "ipython",
    "version": 3
   },
   "file_extension": ".py",
   "mimetype": "text/x-python",
   "name": "python",
   "nbconvert_exporter": "python",
   "pygments_lexer": "ipython3",
   "version": "3.12.7"
  }
 },
 "nbformat": 4,
 "nbformat_minor": 5
}
