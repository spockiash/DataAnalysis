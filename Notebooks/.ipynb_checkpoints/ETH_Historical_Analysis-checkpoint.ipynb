{
 "cells": [
  {
   "cell_type": "code",
   "execution_count": 8,
   "id": "96b69319-0617-4381-9914-e6536ebacf85",
   "metadata": {},
   "outputs": [],
   "source": [
    "import pandas as pd\n"
   ]
  },
  {
   "cell_type": "code",
   "execution_count": 14,
   "id": "f589961e-a9e7-411c-a737-582c401ee203",
   "metadata": {},
   "outputs": [],
   "source": [
    "data = pd.read_csv(\"../Data/HistoricalCryptos/ETH.csv\")"
   ]
  },
  {
   "cell_type": "code",
   "execution_count": 15,
   "id": "51e153dc-120b-4287-af53-3d5d4208203a",
   "metadata": {},
   "outputs": [],
   "source": [
    "data[\"returns\"] = (data[\"close\"]-data[\"close\"].shift(1))/data[\"close\"].shift(1)"
   ]
  },
  {
   "cell_type": "code",
   "execution_count": 17,
   "id": "cffa1a54-d2c2-4869-9970-70235449802a",
   "metadata": {},
   "outputs": [
    {
     "name": "stdout",
     "output_type": "stream",
     "text": [
      "  ticker        date  open  high     low  close  returns\n",
      "0    ETH  2015-08-07   3.0   3.0  3.0000   3.00      NaN\n",
      "1    ETH  2015-08-08   3.0   3.0  1.2000   1.20   -0.600\n",
      "2    ETH  2015-08-09   1.2   1.2  1.2000   1.20    0.000\n",
      "3    ETH  2015-08-10   1.2   1.2  1.2000   1.20    0.000\n",
      "4    ETH  2015-08-11   1.2   1.2  0.6504   0.99   -0.175\n"
     ]
    }
   ],
   "source": [
    "print(data.head(20))"
   ]
  },
  {
   "cell_type": "code",
   "execution_count": null,
   "id": "20906f0f-24fb-46e9-a01e-84e94fe75836",
   "metadata": {},
   "outputs": [],
   "source": []
  }
 ],
 "metadata": {
  "kernelspec": {
   "display_name": "Python 3 (ipykernel)",
   "language": "python",
   "name": "python3"
  },
  "language_info": {
   "codemirror_mode": {
    "name": "ipython",
    "version": 3
   },
   "file_extension": ".py",
   "mimetype": "text/x-python",
   "name": "python",
   "nbconvert_exporter": "python",
   "pygments_lexer": "ipython3",
   "version": "3.12.7"
  }
 },
 "nbformat": 4,
 "nbformat_minor": 5
}
